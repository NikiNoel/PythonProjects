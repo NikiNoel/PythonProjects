{
 "cells": [
  {
   "cell_type": "code",
   "execution_count": 1,
   "id": "bc258303",
   "metadata": {},
   "outputs": [],
   "source": [
    "import getpass"
   ]
  },
  {
   "cell_type": "code",
   "execution_count": 2,
   "id": "72f142f2",
   "metadata": {},
   "outputs": [
    {
     "name": "stdout",
     "output_type": "stream",
     "text": [
      "Enter Your Username : nnp\n",
      "Enter Your Password : ········\n",
      "Verified\n"
     ]
    }
   ],
   "source": [
    "# Create a dictionary of usernames with their passwords.\n",
    "database = {\"nnp\":\"123456\", \"Nicole.Phillips\":\"321654\"}\n",
    "\n",
    "# Ask for user input as the username by using the input function in Python.\n",
    "username = input(\"Enter Your Username : \")\n",
    "\n",
    "# Use the getpass module in Python to ask for user input as the password. Use the getpass module instead of the input function to make sure that the user doesn’t get to see what he/she write in the password field.\n",
    "password = getpass.getpass(\"Enter Your Password : \")\n",
    "for i in database.keys():\n",
    "    if username ==i:\n",
    "       while password !=database.get(i):\n",
    "           password = getpass.getpass(\"Enter Your Password Again : \")\n",
    "       break\n",
    "print(\"Verified\")"
   ]
  },
  {
   "cell_type": "code",
   "execution_count": null,
   "id": "1a79ca1d",
   "metadata": {},
   "outputs": [],
   "source": []
  }
 ],
 "metadata": {
  "kernelspec": {
   "display_name": "Python 3 (ipykernel)",
   "language": "python",
   "name": "python3"
  },
  "language_info": {
   "codemirror_mode": {
    "name": "ipython",
    "version": 3
   },
   "file_extension": ".py",
   "mimetype": "text/x-python",
   "name": "python",
   "nbconvert_exporter": "python",
   "pygments_lexer": "ipython3",
   "version": "3.7.13"
  }
 },
 "nbformat": 4,
 "nbformat_minor": 5
}
